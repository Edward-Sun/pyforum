{
 "cells": [
  {
   "cell_type": "code",
   "execution_count": 1,
   "metadata": {},
   "outputs": [
    {
     "data": {
      "text/plain": [
       "'网上学校全部系统必须世界表示.语言详细社会在线.包括由于女人喜欢行业这种而且上海.'"
      ]
     },
     "execution_count": 1,
     "metadata": {},
     "output_type": "execute_result"
    }
   ],
   "source": [
    "from faker import Faker\n",
    "fake = Faker(\"zh_CN\")\n",
    "fake.text(max_nb_chars=50)"
   ]
  },
  {
   "cell_type": "code",
   "execution_count": 2,
   "metadata": {},
   "outputs": [],
   "source": [
    "import random\n",
    "with open('add_fake_data.sql', 'w') as fout:\n",
    "    fout.write(\"USE pyforum;\\n\")\n",
    "    for i in range(100):\n",
    "        fout.write(\"INSERT INTO `user` (`username`,`email`,`password_hash`,`confirmed`)\\\n",
    "VALUES ('user\"+str(i)+\"', 'qq\"+str(i)+\"@qq.com',\\\n",
    "'pbkdf2:sha1:1000$sheKmza5$95de7e0052f2dd2b533570a8c6850fee9a0c9ea4', '1');\\n\")\n",
    "    \n",
    "    fout.write(\"insert into module(parent_id,name,url,weight) values(0,'版块4','/module/4',600);\\n\")\n",
    "    fout.write(\"insert into module(parent_id,name,url,weight) values(0,'版块5','/module/5',500);\\n\")\n",
    "    fout.write(\"insert into module(parent_id,name,url,weight) values(0,'版块6','/module/6',400);\\n\")\n",
    "    fout.write(\"insert into module(parent_id,name,url,weight) values(0,'版块7','/module/7',300);\\n\")\n",
    "    \n",
    "    for i in range(200):\n",
    "        user_id = random.randint(1,101)\n",
    "        module_id = random.randint(3,7)\n",
    "        fout.write(\"INSERT INTO `post` (`title`,`user_id`,`module_id`,`content`, \\\n",
    "`created_at`,`posted_at`,`updated_at`) \\\n",
    "VALUES ('测试\"+str(i)+\"标题:\"+''.join(fake.words(nb=3))+\"',\"+str(user_id)+\",\"+str(module_id)+\",'测试\"+str(i)+\"内容:\"+fake.text(max_nb_chars=50)+\"',\\\n",
    "UNIX_TIMESTAMP(),UNIX_TIMESTAMP(),UNIX_TIMESTAMP());\\n\")\n",
    "    \n",
    "    floor_num = {}\n",
    "    for i in range(2,201):\n",
    "        floor_num[i] = 1\n",
    "        \n",
    "    for i in range(1200):\n",
    "        user_id = random.randint(1,101)\n",
    "        post_id = random.randint(2,200)\n",
    "        floor_num[post_id] += 1\n",
    "        \n",
    "        fout.write(\"UPDATE `post` SET `comment_floor` = \"+str(floor_num[post_id])+\" WHERE `id` = \"+str(post_id)+\";\\n\")\n",
    "        \n",
    "        fout.write(\"INSERT INTO `reply` (`user_id`,`post_id`,`content`,\\\n",
    "`created_at`,`posted_at`,`updated_at`,`read_count`,`like_count`,`comment_floor_num`) \\\n",
    "VALUES (\"+str(user_id)+\",\"+str(post_id)+\",'回复\"+str(i)+\"内容:\"+fake.text(max_nb_chars=50)+\"',UNIX_TIMESTAMP(),\\\n",
    "UNIX_TIMESTAMP(),UNIX_TIMESTAMP(),0,0,\"+str(floor_num[post_id])+\");\\n\")"
   ]
  }
 ],
 "metadata": {
  "kernelspec": {
   "display_name": "Python 3",
   "language": "python",
   "name": "python3"
  },
  "language_info": {
   "codemirror_mode": {
    "name": "ipython",
    "version": 3
   },
   "file_extension": ".py",
   "mimetype": "text/x-python",
   "name": "python",
   "nbconvert_exporter": "python",
   "pygments_lexer": "ipython3",
   "version": "3.6.7"
  }
 },
 "nbformat": 4,
 "nbformat_minor": 2
}
